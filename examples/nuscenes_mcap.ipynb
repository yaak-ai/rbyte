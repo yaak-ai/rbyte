{
 "cells": [
  {
   "cell_type": "markdown",
   "id": "f199a6c2-62e9-47c3-b5c3-18c10fab78d7",
   "metadata": {},
   "source": [
    "# [nuScenes](https://nuscenes.org) x [mcap](https://mcap.dev)\n",
    "\n",
    "Creating and visualizing a dataset from a [nuScenes](https://nuscenes.org) scene converted to [mcap](https://mcap.dev) using [foxglove/nuscenes2mcap](https://github.com/foxglove/nuscenes2mcap)."
   ]
  },
  {
   "cell_type": "code",
   "execution_count": null,
   "id": "8372e8fa-2170-4f5e-8da9-ae91e9382169",
   "metadata": {},
   "outputs": [],
   "source": [
    "from pathlib import Path\n",
    "\n",
    "from hydra import compose, initialize\n",
    "from hydra.utils import instantiate"
   ]
  },
  {
   "cell_type": "markdown",
   "id": "5722b10d-2dd9-4e9f-8e03-1cafe223f0aa",
   "metadata": {},
   "source": [
    "#### Compose a [hydra](https://hydra.cc) config:"
   ]
  },
  {
   "cell_type": "code",
   "execution_count": null,
   "id": "5e297ae3-1a7e-46e4-94ca-3da749209c8c",
   "metadata": {},
   "outputs": [],
   "source": [
    "CONFIG_PATH = \"../config\"\n",
    "DATA_DIR = Path.cwd().parent.resolve() / \"tests\" / \"data\" / \"nuscenes\" / \"mcap\"\n",
    "DATASET = \"nuscenes/mcap\"\n",
    "LOGGER = f\"rerun/{DATASET}\"\n",
    "\n",
    "with initialize(version_base=None, config_path=CONFIG_PATH):\n",
    "    cfg = compose(\n",
    "        \"visualize\",\n",
    "        overrides=[f\"dataset={DATASET}\", f\"logger={LOGGER}\", f\"+data_dir={DATA_DIR}\"],\n",
    "    )"
   ]
  },
  {
   "cell_type": "markdown",
   "id": "83e29131-0392-4a39-9ab9-e2745d59fefa",
   "metadata": {},
   "source": [
    "#### Instantiate the dataloader:"
   ]
  },
  {
   "cell_type": "code",
   "execution_count": null,
   "id": "df270b3c-f637-48ad-9acf-89d8c5cf892e",
   "metadata": {},
   "outputs": [],
   "source": [
    "dataloader = instantiate(cfg.dataloader)"
   ]
  },
  {
   "cell_type": "markdown",
   "id": "e14b7f76-fb2e-46b4-903f-0f5ed32aee1c",
   "metadata": {},
   "source": [
    "#### Inspect a batch:"
   ]
  },
  {
   "cell_type": "code",
   "execution_count": null,
   "id": "9bfe7401-76fb-46d6-83a1-d511eed774c4",
   "metadata": {},
   "outputs": [],
   "source": [
    "batch = next(iter(dataloader))\n",
    "batch"
   ]
  },
  {
   "cell_type": "markdown",
   "id": "f5225adf-da67-4626-86c6-beae09974989",
   "metadata": {},
   "source": [
    "#### (optional) Visualize the dataset:"
   ]
  },
  {
   "cell_type": "code",
   "execution_count": null,
   "id": "d5eaad36-97fd-4b60-8c67-df5eb9977a52",
   "metadata": {
    "editable": true,
    "slideshow": {
     "slide_type": ""
    },
    "tags": []
   },
   "outputs": [],
   "source": [
    "import rerun as rr\n",
    "\n",
    "logger = instantiate(cfg.logger, spawn=False)\n",
    "\n",
    "for batch_idx, batch in enumerate(dataloader):\n",
    "    logger.log(batch_idx, batch)\n",
    "\n",
    "rr.notebook_show(height=1000, width=2000)"
   ]
  }
 ],
 "metadata": {
  "kernelspec": {
   "display_name": "Python 3 (ipykernel)",
   "language": "python",
   "name": "python3"
  },
  "language_info": {
   "codemirror_mode": {
    "name": "ipython",
    "version": 3
   },
   "file_extension": ".py",
   "mimetype": "text/x-python",
   "name": "python",
   "nbconvert_exporter": "python",
   "pygments_lexer": "ipython3",
   "version": "3.12.4"
  }
 },
 "nbformat": 4,
 "nbformat_minor": 5
}
