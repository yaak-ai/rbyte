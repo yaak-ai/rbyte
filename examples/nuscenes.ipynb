{
 "cells": [
  {
   "cell_type": "markdown",
   "id": "0",
   "metadata": {},
   "source": [
    "# [nuScenes](https://nuscenes.org) x [mcap](https://mcap.dev)\n",
    "\n",
    "Creating and visualizing a dataset from a [nuScenes](https://nuscenes.org) scene converted to [mcap](https://mcap.dev) using [foxglove/nuscenes2mcap](https://github.com/foxglove/nuscenes2mcap)."
   ]
  },
  {
   "cell_type": "code",
   "execution_count": null,
   "id": "1",
   "metadata": {},
   "outputs": [],
   "source": [
    "from pathlib import Path\n",
    "\n",
    "from hydra import compose, initialize\n",
    "from hydra.utils import instantiate"
   ]
  },
  {
   "cell_type": "markdown",
   "id": "2",
   "metadata": {},
   "source": [
    "#### Compose a [hydra](https://hydra.cc) config:"
   ]
  },
  {
   "cell_type": "code",
   "execution_count": null,
   "id": "3",
   "metadata": {},
   "outputs": [],
   "source": [
    "CONFIG_PATH = \"../config\"\n",
    "DATA_DIR = Path.cwd().parent.resolve() / \"tests\" / \"data\" / \"nuscenes\"\n",
    "DATASET = \"nuscenes\"\n",
    "LOGGER = f\"rerun/{DATASET}\"\n",
    "\n",
    "with initialize(version_base=None, config_path=CONFIG_PATH):\n",
    "    cfg = compose(\n",
    "        \"visualize\",\n",
    "        overrides=[f\"dataset={DATASET}\", f\"logger={LOGGER}\", f\"+data_dir={DATA_DIR}\"],\n",
    "    )"
   ]
  },
  {
   "cell_type": "markdown",
   "id": "4",
   "metadata": {},
   "source": [
    "#### Instantiate the dataloader:"
   ]
  },
  {
   "cell_type": "code",
   "execution_count": null,
   "id": "5",
   "metadata": {},
   "outputs": [],
   "source": [
    "dataloader = instantiate(cfg.dataloader)"
   ]
  },
  {
   "cell_type": "markdown",
   "id": "6",
   "metadata": {},
   "source": [
    "#### Inspect a batch:"
   ]
  },
  {
   "cell_type": "code",
   "execution_count": null,
   "id": "7",
   "metadata": {},
   "outputs": [],
   "source": [
    "batch = next(iter(dataloader))\n",
    "batch"
   ]
  },
  {
   "cell_type": "markdown",
   "id": "8",
   "metadata": {},
   "source": [
    "#### (optional) Visualize the dataset:"
   ]
  },
  {
   "cell_type": "code",
   "execution_count": null,
   "id": "9",
   "metadata": {
    "editable": true,
    "slideshow": {
     "slide_type": ""
    },
    "tags": []
   },
   "outputs": [],
   "source": [
    "import rerun as rr\n",
    "\n",
    "logger = instantiate(cfg.logger, spawn=False)\n",
    "\n",
    "for batch in dataloader:\n",
    "    logger.log(batch)\n",
    "\n",
    "rr.notebook_show(height=1000, width=2000)"
   ]
  }
 ],
 "metadata": {
  "kernelspec": {
   "display_name": "Python 3 (ipykernel)",
   "language": "python",
   "name": "python3"
  },
  "language_info": {
   "codemirror_mode": {
    "name": "ipython",
    "version": 3
   },
   "file_extension": ".py",
   "mimetype": "text/x-python",
   "name": "python",
   "nbconvert_exporter": "python",
   "pygments_lexer": "ipython3",
   "version": "3.12.4"
  }
 },
 "nbformat": 4,
 "nbformat_minor": 5
}
